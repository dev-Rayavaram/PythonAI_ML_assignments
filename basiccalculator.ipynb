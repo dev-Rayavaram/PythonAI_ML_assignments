{
  "nbformat": 4,
  "nbformat_minor": 0,
  "metadata": {
    "colab": {
      "name": "basiccalculator.ipynb",
      "provenance": [],
      "collapsed_sections": [],
      "authorship_tag": "ABX9TyMAZYHOZVUOIPd+rWFfHh72",
      "include_colab_link": true
    },
    "kernelspec": {
      "name": "python3",
      "display_name": "Python 3"
    },
    "language_info": {
      "name": "python"
    }
  },
  "cells": [
    {
      "cell_type": "markdown",
      "metadata": {
        "id": "view-in-github",
        "colab_type": "text"
      },
      "source": [
        "<a href=\"https://colab.research.google.com/github/dev-Rayavaram/PythonAI_ML_assignments/blob/main/basiccalculator.ipynb\" target=\"_parent\"><img src=\"https://colab.research.google.com/assets/colab-badge.svg\" alt=\"Open In Colab\"/></a>"
      ]
    },
    {
      "cell_type": "code",
      "metadata": {
        "colab": {
          "base_uri": "https://localhost:8080/"
        },
        "id": "egR3W4AmvC14",
        "outputId": "63836260-56b4-4e37-b649-f6e76909c258"
      },
      "source": [
        "import re\n",
        "x = input(\"Enter ADD or SUBTRACT or DIVIDE or MULTIPLY\")\n",
        "y = input(\"Enter numerical value\")\n",
        "z = input(\"Enter numerical value\")\n",
        "if (y.isnumeric() == False | z.isnumeric() == False):\n",
        "    print(\"Please enter numeric values to calculate\")\n",
        "    exit\n",
        "else:    \n",
        "  input1 = int(y)\n",
        "  input2 = int(z)\n",
        "  result = 0\n",
        "  option = x.upper()\n",
        "  def calculate(option,input1,input2):\n",
        "    if re.match(\"ADD\",option):\n",
        "      return input1 + input2\n",
        "    elif re.match(\"SUBTRACT\",option):\n",
        "      return  input1 - input2\n",
        "    elif re.match(\"DIVIDE\",option):\n",
        "      return input1 / input2\n",
        "    elif re.match(\"MULTIPLY\",option):\n",
        "      return  input1 * input2\n",
        "    else:\n",
        "      print(\"NOT a VALID INPUT\")\n",
        "    print(x)\n",
        "    return x\n",
        "  result = calculate(option,input1,input2)\n",
        "  print(f'{input1} {option} {input2} = {result}')\n",
        "\n",
        "\n",
        "\n",
        "\n",
        "\n"
      ],
      "execution_count": null,
      "outputs": [
        {
          "output_type": "stream",
          "name": "stdout",
          "text": [
            "Enter ADD or SUBTRACT or DIVIDE or MULTIPLYmultiply\n",
            "Enter numerical value3\n",
            "Enter numerical value5\n",
            "3 MULTIPLY 5 = 15\n"
          ]
        }
      ]
    }
  ]
}