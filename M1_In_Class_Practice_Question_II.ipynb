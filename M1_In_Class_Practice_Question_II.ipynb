{
  "nbformat": 4,
  "nbformat_minor": 0,
  "metadata": {
    "colab": {
      "name": "M1_In_Class_Practice_Question_II.ipynb",
      "provenance": [],
      "include_colab_link": true
    },
    "kernelspec": {
      "name": "python3",
      "display_name": "Python 3"
    }
  },
  "cells": [
    {
      "cell_type": "markdown",
      "metadata": {
        "id": "view-in-github",
        "colab_type": "text"
      },
      "source": [
        "<a href=\"https://colab.research.google.com/github/dev-Rayavaram/PythonAI_ML_assignments/blob/main/M1_In_Class_Practice_Question_II.ipynb\" target=\"_parent\"><img src=\"https://colab.research.google.com/assets/colab-badge.svg\" alt=\"Open In Colab\"/></a>"
      ]
    },
    {
      "cell_type": "markdown",
      "metadata": {
        "id": "iKawQXaBeonD"
      },
      "source": [
        "Q1: WAP print to check if the number entered by the user is even or odd."
      ]
    },
    {
      "cell_type": "code",
      "metadata": {
        "id": "AcqTiJPEegac",
        "colab": {
          "base_uri": "https://localhost:8080/"
        },
        "outputId": "41124d55-31ce-413f-e61f-bfa1092b494d"
      },
      "source": [
        "num = int(input(\"Enter a number to check if its even or odd: \"))\n",
        "if (num%2 == 0):\n",
        "  print(num, \"is even\")\n",
        "else:\n",
        "  print(num, \"is odd\")\n"
      ],
      "execution_count": null,
      "outputs": [
        {
          "output_type": "stream",
          "name": "stdout",
          "text": [
            "Enter a number to check if its even or odd: 77\n",
            "77 is odd\n"
          ]
        }
      ]
    },
    {
      "cell_type": "markdown",
      "metadata": {
        "id": "5UY3AiehuLKK"
      },
      "source": [
        "Q2: WAP to take values of length and breadth of a rectangle from user and check if it is square or not.\n"
      ]
    },
    {
      "cell_type": "code",
      "metadata": {
        "id": "bV9RlVAZpS0A",
        "colab": {
          "base_uri": "https://localhost:8080/"
        },
        "outputId": "565ce51a-d96a-4b0c-d123-23ffeca2c914"
      },
      "source": [
        "print (\"Enter length\")\n",
        "length = input()\n",
        "print(\"Enter breadth\")\n",
        "breadth = input()\n",
        "if length == breadth:\n",
        "  print(\"Yes, it is square\")\n",
        "else:\n",
        "  print(\"No, it is only Rectangle\")"
      ],
      "execution_count": null,
      "outputs": [
        {
          "output_type": "stream",
          "name": "stdout",
          "text": [
            "Enter length\n",
            "7\n",
            "Enter breadth\n",
            "7\n",
            "Yes, it is square\n"
          ]
        }
      ]
    },
    {
      "cell_type": "markdown",
      "metadata": {
        "id": "2iKhA3e1oQCR"
      },
      "source": [
        "Q3: A shopkeeper gives a discount of 10% if the cost of purchased quantity is more than 1000. WAP to ask user for quantity. Considering one unit will cost 100, calculate the total cost to be paid by the user.\n"
      ]
    },
    {
      "cell_type": "code",
      "metadata": {
        "id": "PRiC3SBqfFQ3",
        "colab": {
          "base_uri": "https://localhost:8080/"
        },
        "outputId": "489c48b1-7d85-41d0-ac82-e3f7884e8440"
      },
      "source": [
        "print(\"Enter quantity\")\n",
        "quantity = int(input())\n",
        "print(\"Original Price is: \", quantity*100)\n",
        "if quantity*100>1000:\n",
        "  print(\"Discounted Price is\",((quantity*100)-(.1*quantity*100)))\n",
        "else:\n",
        "  print(\"Selling Price is\",quantity*100)"
      ],
      "execution_count": null,
      "outputs": [
        {
          "output_type": "stream",
          "name": "stdout",
          "text": [
            "Enter quantity\n",
            "7\n",
            "Original Price is:  700\n",
            "Selling Price is 700\n"
          ]
        }
      ]
    },
    {
      "cell_type": "markdown",
      "metadata": {
        "id": "JZJPmQ0ju5tq"
      },
      "source": [
        "Q4: A school has following rules for grading system:\n",
        "- Below 25 - F\n",
        "- 25 to 45 - E\n",
        "- 45 to 50 - D\n",
        "- 50 to 60 - C\n",
        "- 60 to 80 - B\n",
        "- Above 80 - A\n",
        "\n",
        "Ask user to enter marks and print the corresponding grade.\n"
      ]
    },
    {
      "cell_type": "code",
      "metadata": {
        "id": "RbgodK24qGV8",
        "colab": {
          "base_uri": "https://localhost:8080/"
        },
        "outputId": "919d235a-2fef-48fe-ef82-b4bd24d2edc4"
      },
      "source": [
        "print (\"Enter marks\")\n",
        "marks = int(input())\n",
        "if (marks<25):\n",
        "  print (\"F\")\n",
        "elif marks>=25 and marks<45:\n",
        "  print (\"E\")\n",
        "elif marks>=45 and marks<50:\n",
        "  print (\"D\")\n",
        "elif marks>=50 and marks<60:\n",
        "  print (\"C\")\n",
        "elif marks>=60 and marks<80:\n",
        "  print (\"B\")\n",
        "else:\n",
        "  print (\"A\")"
      ],
      "execution_count": null,
      "outputs": [
        {
          "output_type": "stream",
          "name": "stdout",
          "text": [
            "Enter marks\n",
            "90\n",
            "A\n"
          ]
        }
      ]
    }
  ]
}