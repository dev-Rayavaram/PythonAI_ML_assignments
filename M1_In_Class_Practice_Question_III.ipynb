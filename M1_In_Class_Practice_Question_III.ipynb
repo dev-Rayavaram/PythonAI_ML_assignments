{
  "nbformat": 4,
  "nbformat_minor": 0,
  "metadata": {
    "colab": {
      "name": "M1_In_Class_Practice_Question_III.ipynb",
      "provenance": [],
      "include_colab_link": true
    },
    "kernelspec": {
      "name": "python3",
      "display_name": "Python 3"
    }
  },
  "cells": [
    {
      "cell_type": "markdown",
      "metadata": {
        "id": "view-in-github",
        "colab_type": "text"
      },
      "source": [
        "<a href=\"https://colab.research.google.com/github/dev-Rayavaram/PythonAI_ML_assignments/blob/main/M1_In_Class_Practice_Question_III.ipynb\" target=\"_parent\"><img src=\"https://colab.research.google.com/assets/colab-badge.svg\" alt=\"Open In Colab\"/></a>"
      ]
    },
    {
      "cell_type": "markdown",
      "metadata": {
        "id": "lwcQPY5_wyjq"
      },
      "source": [
        "Q1. WAP to check if the given number is a palindrome"
      ]
    },
    {
      "cell_type": "code",
      "metadata": {
        "id": "iAC3Kmwdwqy-",
        "colab": {
          "base_uri": "https://localhost:8080/"
        },
        "outputId": "81ce0df0-0b01-4d0b-adbb-7b3db8ad2490"
      },
      "source": [
        "def isPalindrome(s): \n",
        "    return s == s[::-1] \n",
        "\n",
        "# Driver code \n",
        "s = input()\n",
        "ans = isPalindrome(s) \n",
        "  \n",
        "if ans: \n",
        "    print(\"Yes \"+s+\" is an palindrome\") \n",
        "else: \n",
        "    print(\"No \"+s+\" is not an palindrome\") "
      ],
      "execution_count": null,
      "outputs": [
        {
          "output_type": "stream",
          "name": "stdout",
          "text": [
            "test\n",
            "No test is not an palindrome\n"
          ]
        }
      ]
    },
    {
      "cell_type": "markdown",
      "metadata": {
        "id": "oowD5u-Vx7gz"
      },
      "source": [
        "Q2. WAP to print multiplication table of the given number"
      ]
    },
    {
      "cell_type": "code",
      "metadata": {
        "id": "x77sc62gxFIP",
        "colab": {
          "base_uri": "https://localhost:8080/"
        },
        "outputId": "7a3d7019-9e48-4996-9606-57ceec6b42dd"
      },
      "source": [
        "num = int(input(\"Show the multiplication table of? \"))  \n",
        "# using for loop to iterate multiplication 10 times   \n",
        "for i in range(1,11):  \n",
        "   print(num,'x',i,'=',num*i) "
      ],
      "execution_count": null,
      "outputs": [
        {
          "output_type": "stream",
          "name": "stdout",
          "text": [
            "Show the multiplication table of? 78\n",
            "78 x 1 = 78\n",
            "78 x 2 = 156\n",
            "78 x 3 = 234\n",
            "78 x 4 = 312\n",
            "78 x 5 = 390\n",
            "78 x 6 = 468\n",
            "78 x 7 = 546\n",
            "78 x 8 = 624\n",
            "78 x 9 = 702\n",
            "78 x 10 = 780\n"
          ]
        }
      ]
    },
    {
      "cell_type": "markdown",
      "metadata": {
        "id": "VP_WROgHyEG5"
      },
      "source": [
        "Q3. WAP to take two lists of numbers from the user and create a new list such that it contains odd numbers from the first list and even numbers from the second list"
      ]
    },
    {
      "cell_type": "code",
      "metadata": {
        "id": "BhuXhaaCx41Q",
        "colab": {
          "base_uri": "https://localhost:8080/"
        },
        "outputId": "95bc7f2c-e49c-4464-fe9b-b13c3a6ecbec"
      },
      "source": [
        "# declare and assign list1\n",
        "list1 = [] \n",
        "  \n",
        "# number of elemetns as input \n",
        "n = int(input(\"Enter number of elements : \")) \n",
        "  \n",
        "# iterating till the range \n",
        "for i in range(0, n): \n",
        "    ele = int(input()) \n",
        "  \n",
        "    list1.append(ele) # adding the element\n",
        "\n",
        "# declare listOdd - to store odd numbers\n",
        "# declare listEven - to store even numbers\n",
        "listOdd = []\n",
        "listEven = []\n",
        "\n",
        "# check and append odd numbers in listOdd\n",
        "# and even numbers in listEven\n",
        "for num in list1:\n",
        "\tif num%2 == 0:\n",
        "\t\tlistEven.append(num)\n",
        "\telse:\n",
        "\t\tlistOdd.append(num) \n",
        "\n",
        "# print lists\n",
        "print(\"list1:    \", list1) \n",
        "print(\"listEven: \", listEven)\n",
        "print(\"listOdd:  \", listOdd)"
      ],
      "execution_count": null,
      "outputs": [
        {
          "output_type": "stream",
          "name": "stdout",
          "text": [
            "Enter number of elements : 8\n",
            "7\n",
            "8\n",
            "5\n",
            "8\n",
            "5\n",
            "8\n",
            "8\n",
            "5\n",
            "list1:     [7, 8, 5, 8, 5, 8, 8, 5]\n",
            "listEven:  [8, 8, 8, 8]\n",
            "listOdd:   [7, 5, 5, 5]\n"
          ]
        }
      ]
    },
    {
      "cell_type": "markdown",
      "metadata": {
        "id": "47cWxYaI0XZU"
      },
      "source": [
        "Q4: WAP to take two matrix (2x2) input from the user and perform matrix multiplication\n"
      ]
    },
    {
      "cell_type": "code",
      "metadata": {
        "id": "QjsfCukTzAc_",
        "colab": {
          "base_uri": "https://localhost:8080/"
        },
        "outputId": "d3f6a7f6-24c6-417c-a582-4c5fcbfd437c"
      },
      "source": [
        "X=[[2,3],[4,5]]\n",
        "Y=[[1,0],  [2,1]]\n",
        "result=[[0,0],\n",
        "       [0,0]]\n",
        "#iterating through ‘x’ rows\n",
        "for i in range(len(X)):\n",
        "   #iterating through ‘y’ columns\n",
        "   for j in range(len(Y[0])):\n",
        "       #iterating through ‘y’ rows\n",
        "       for k in range(len(Y)):\n",
        "           result[i][j] += X[i][k] * Y[k][j]\n",
        "for r in result:\n",
        "      print(r)"
      ],
      "execution_count": null,
      "outputs": [
        {
          "output_type": "stream",
          "name": "stdout",
          "text": [
            "[8, 3]\n",
            "[14, 5]\n"
          ]
        }
      ]
    }
  ]
}